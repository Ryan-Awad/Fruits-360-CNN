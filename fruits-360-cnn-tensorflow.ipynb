{
 "cells": [
  {
   "cell_type": "markdown",
   "metadata": {
    "papermill": {
     "duration": 0.008092,
     "end_time": "2020-12-31T05:41:32.604401",
     "exception": false,
     "start_time": "2020-12-31T05:41:32.596309",
     "status": "completed"
    },
    "tags": []
   },
   "source": [
    "# Fruits 360 - Convolutional Neural Networks Using TensorFlow"
   ]
  },
  {
   "cell_type": "code",
   "execution_count": 1,
   "metadata": {
    "_cell_guid": "b1076dfc-b9ad-4769-8c92-a6c4dae69d19",
    "_uuid": "8f2839f25d086af736a60e9eeb907d3b93b6e0e5",
    "execution": {
     "iopub.execute_input": "2020-12-31T05:41:32.626028Z",
     "iopub.status.busy": "2020-12-31T05:41:32.625382Z",
     "iopub.status.idle": "2020-12-31T05:41:37.888097Z",
     "shell.execute_reply": "2020-12-31T05:41:37.887009Z"
    },
    "papermill": {
     "duration": 5.27596,
     "end_time": "2020-12-31T05:41:37.888217",
     "exception": false,
     "start_time": "2020-12-31T05:41:32.612257",
     "status": "completed"
    },
    "tags": []
   },
   "outputs": [],
   "source": [
    "import tensorflow as tf\n",
    "from tensorflow import keras\n",
    "from tensorflow.keras import layers\n",
    "from tensorflow.keras.preprocessing import image_dataset_from_directory\n",
    "from tensorflow.keras.callbacks import EarlyStopping\n",
    "import matplotlib.pyplot as plt\n",
    "import numpy as np\n",
    "import pandas as pd"
   ]
  },
  {
   "cell_type": "markdown",
   "metadata": {
    "papermill": {
     "duration": 0.007404,
     "end_time": "2020-12-31T05:41:37.903353",
     "exception": false,
     "start_time": "2020-12-31T05:41:37.895949",
     "status": "completed"
    },
    "tags": []
   },
   "source": [
    "## Creating Data Pipelines"
   ]
  },
  {
   "cell_type": "code",
   "execution_count": 2,
   "metadata": {
    "execution": {
     "iopub.execute_input": "2020-12-31T05:41:37.927209Z",
     "iopub.status.busy": "2020-12-31T05:41:37.926626Z",
     "iopub.status.idle": "2020-12-31T05:41:49.052853Z",
     "shell.execute_reply": "2020-12-31T05:41:49.054099Z"
    },
    "papermill": {
     "duration": 11.143638,
     "end_time": "2020-12-31T05:41:49.054316",
     "exception": false,
     "start_time": "2020-12-31T05:41:37.910678",
     "status": "completed"
    },
    "tags": []
   },
   "outputs": [
    {
     "name": "stdout",
     "output_type": "stream",
     "text": [
      "Found 67692 files belonging to 131 classes.\n",
      "Found 22688 files belonging to 131 classes.\n"
     ]
    }
   ],
   "source": [
    "train_ds_ = image_dataset_from_directory(\n",
    "    '../input/fruits/fruits-360/Training',\n",
    "    labels='inferred',\n",
    "    label_mode='categorical',\n",
    "    image_size=(100,100),\n",
    "    interpolation='nearest',\n",
    "    shuffle=True,\n",
    "    batch_size=512\n",
    ")\n",
    "\n",
    "test_ds_ = image_dataset_from_directory(\n",
    "    '../input/fruits/fruits-360/Test',\n",
    "    labels='inferred',\n",
    "    label_mode='categorical',\n",
    "    image_size=(100,100),\n",
    "    interpolation='nearest',\n",
    "    shuffle=False,\n",
    "    batch_size=512\n",
    ")\n",
    "\n",
    "# Pipeline\n",
    "def convert_to_float(image, label):\n",
    "    image = image / 255\n",
    "    return image, label\n",
    "\n",
    "AUTOTUNE = tf.data.experimental.AUTOTUNE\n",
    "\n",
    "train_ds = (\n",
    "    train_ds_\n",
    "    .map(convert_to_float)\n",
    "    .cache()\n",
    "    .prefetch(buffer_size=AUTOTUNE)\n",
    ")\n",
    "\n",
    "test_ds = (\n",
    "    test_ds_\n",
    "    .map(convert_to_float)\n",
    "    .cache()\n",
    "    .prefetch(buffer_size=AUTOTUNE)\n",
    ")"
   ]
  },
  {
   "cell_type": "markdown",
   "metadata": {
    "papermill": {
     "duration": 0.01179,
     "end_time": "2020-12-31T05:41:49.080060",
     "exception": false,
     "start_time": "2020-12-31T05:41:49.068270",
     "status": "completed"
    },
    "tags": []
   },
   "source": [
    "## Defining the Model"
   ]
  },
  {
   "cell_type": "code",
   "execution_count": 3,
   "metadata": {
    "execution": {
     "iopub.execute_input": "2020-12-31T05:41:49.117447Z",
     "iopub.status.busy": "2020-12-31T05:41:49.116472Z",
     "iopub.status.idle": "2020-12-31T05:41:49.256822Z",
     "shell.execute_reply": "2020-12-31T05:41:49.255767Z"
    },
    "papermill": {
     "duration": 0.164601,
     "end_time": "2020-12-31T05:41:49.256957",
     "exception": false,
     "start_time": "2020-12-31T05:41:49.092356",
     "status": "completed"
    },
    "tags": []
   },
   "outputs": [],
   "source": [
    "model = keras.Sequential([\n",
    "    layers.Conv2D(filters=32, kernel_size=(3,3), strides=(1,1), activation='relu', input_shape=(100,100,3)),\n",
    "    layers.MaxPool2D(pool_size=(2,2), strides=(2,2)),\n",
    "    layers.Conv2D(filters=64, kernel_size=(3,3), strides=(1,1), activation='relu'),\n",
    "    layers.MaxPool2D(pool_size=(2,2), strides=(2,2)),\n",
    "    layers.Conv2D(filters=128, kernel_size=(3,3), strides=(1,1), activation='relu'),\n",
    "    layers.MaxPool2D(pool_size=(2,2), strides=(2,2)),\n",
    "    layers.Conv2D(filters=256, kernel_size=(3,3), strides=(1,1), activation='relu'),\n",
    "    layers.MaxPool2D(pool_size=(2,2), strides=(2,2)),\n",
    "    layers.Flatten(),\n",
    "    layers.Dense(128, activation='relu'),\n",
    "    layers.Dense(131, activation='softmax')\n",
    "])"
   ]
  },
  {
   "cell_type": "code",
   "execution_count": 4,
   "metadata": {
    "execution": {
     "iopub.execute_input": "2020-12-31T05:41:49.287507Z",
     "iopub.status.busy": "2020-12-31T05:41:49.286381Z",
     "iopub.status.idle": "2020-12-31T05:41:49.300513Z",
     "shell.execute_reply": "2020-12-31T05:41:49.301016Z"
    },
    "papermill": {
     "duration": 0.034828,
     "end_time": "2020-12-31T05:41:49.301142",
     "exception": false,
     "start_time": "2020-12-31T05:41:49.266314",
     "status": "completed"
    },
    "tags": []
   },
   "outputs": [
    {
     "name": "stdout",
     "output_type": "stream",
     "text": [
      "Model: \"sequential\"\n",
      "_________________________________________________________________\n",
      "Layer (type)                 Output Shape              Param #   \n",
      "=================================================================\n",
      "conv2d (Conv2D)              (None, 98, 98, 32)        896       \n",
      "_________________________________________________________________\n",
      "max_pooling2d (MaxPooling2D) (None, 49, 49, 32)        0         \n",
      "_________________________________________________________________\n",
      "conv2d_1 (Conv2D)            (None, 47, 47, 64)        18496     \n",
      "_________________________________________________________________\n",
      "max_pooling2d_1 (MaxPooling2 (None, 23, 23, 64)        0         \n",
      "_________________________________________________________________\n",
      "conv2d_2 (Conv2D)            (None, 21, 21, 128)       73856     \n",
      "_________________________________________________________________\n",
      "max_pooling2d_2 (MaxPooling2 (None, 10, 10, 128)       0         \n",
      "_________________________________________________________________\n",
      "conv2d_3 (Conv2D)            (None, 8, 8, 256)         295168    \n",
      "_________________________________________________________________\n",
      "max_pooling2d_3 (MaxPooling2 (None, 4, 4, 256)         0         \n",
      "_________________________________________________________________\n",
      "flatten (Flatten)            (None, 4096)              0         \n",
      "_________________________________________________________________\n",
      "dense (Dense)                (None, 128)               524416    \n",
      "_________________________________________________________________\n",
      "dense_1 (Dense)              (None, 131)               16899     \n",
      "=================================================================\n",
      "Total params: 929,731\n",
      "Trainable params: 929,731\n",
      "Non-trainable params: 0\n",
      "_________________________________________________________________\n"
     ]
    }
   ],
   "source": [
    "model.compile(optimizer='adam', loss='categorical_crossentropy', metrics=['accuracy'])\n",
    "model.summary()"
   ]
  },
  {
   "cell_type": "markdown",
   "metadata": {
    "papermill": {
     "duration": 0.008692,
     "end_time": "2020-12-31T05:41:49.318721",
     "exception": false,
     "start_time": "2020-12-31T05:41:49.310029",
     "status": "completed"
    },
    "tags": []
   },
   "source": [
    "## Training the Model"
   ]
  },
  {
   "cell_type": "code",
   "execution_count": 5,
   "metadata": {
    "execution": {
     "iopub.execute_input": "2020-12-31T05:41:49.341956Z",
     "iopub.status.busy": "2020-12-31T05:41:49.341366Z",
     "iopub.status.idle": "2020-12-31T05:51:31.743805Z",
     "shell.execute_reply": "2020-12-31T05:51:31.742792Z"
    },
    "papermill": {
     "duration": 582.416308,
     "end_time": "2020-12-31T05:51:31.743956",
     "exception": false,
     "start_time": "2020-12-31T05:41:49.327648",
     "status": "completed"
    },
    "tags": []
   },
   "outputs": [
    {
     "name": "stdout",
     "output_type": "stream",
     "text": [
      "Epoch 1/500\n",
      "133/133 [==============================] - 429s 3s/step - loss: 1.5044 - accuracy: 0.6426 - val_loss: 0.6415 - val_accuracy: 0.8427\n",
      "Epoch 2/500\n",
      "133/133 [==============================] - 12s 93ms/step - loss: 0.0612 - accuracy: 0.9820 - val_loss: 0.4637 - val_accuracy: 0.8968\n",
      "Epoch 3/500\n",
      "133/133 [==============================] - 12s 92ms/step - loss: 0.0327 - accuracy: 0.9903 - val_loss: 0.2961 - val_accuracy: 0.9498\n",
      "Epoch 4/500\n",
      "133/133 [==============================] - 12s 93ms/step - loss: 0.0764 - accuracy: 0.9790 - val_loss: 0.2439 - val_accuracy: 0.9426\n",
      "Epoch 5/500\n",
      "133/133 [==============================] - 12s 94ms/step - loss: 0.0039 - accuracy: 0.9994 - val_loss: 0.2808 - val_accuracy: 0.9435\n",
      "Epoch 6/500\n",
      "133/133 [==============================] - 12s 94ms/step - loss: 0.0011 - accuracy: 0.9999 - val_loss: 0.2351 - val_accuracy: 0.9602\n",
      "Epoch 7/500\n",
      "133/133 [==============================] - 12s 92ms/step - loss: 4.5078e-04 - accuracy: 1.0000 - val_loss: 0.2373 - val_accuracy: 0.9607\n",
      "Epoch 8/500\n",
      "133/133 [==============================] - 12s 93ms/step - loss: 2.0474e-04 - accuracy: 1.0000 - val_loss: 0.2417 - val_accuracy: 0.9605\n",
      "Epoch 9/500\n",
      "133/133 [==============================] - 12s 93ms/step - loss: 1.3573e-04 - accuracy: 1.0000 - val_loss: 0.2489 - val_accuracy: 0.9601\n",
      "Epoch 10/500\n",
      "133/133 [==============================] - 12s 93ms/step - loss: 1.0449e-04 - accuracy: 1.0000 - val_loss: 0.2541 - val_accuracy: 0.9602\n",
      "Epoch 11/500\n",
      "133/133 [==============================] - 13s 96ms/step - loss: 8.4228e-05 - accuracy: 1.0000 - val_loss: 0.2586 - val_accuracy: 0.9602\n"
     ]
    }
   ],
   "source": [
    "early_stopping = EarlyStopping(\n",
    "    min_delta=1e-3,\n",
    "    patience=5,\n",
    "    restore_best_weights=True\n",
    ")\n",
    "\n",
    "history = model.fit(\n",
    "    train_ds,\n",
    "    batch_size=512,\n",
    "    validation_data=(test_ds),\n",
    "    callbacks=[early_stopping],\n",
    "    epochs=500,\n",
    "    verbose=1\n",
    ")"
   ]
  },
  {
   "cell_type": "markdown",
   "metadata": {
    "papermill": {
     "duration": 0.500582,
     "end_time": "2020-12-31T05:51:32.756009",
     "exception": false,
     "start_time": "2020-12-31T05:51:32.255427",
     "status": "completed"
    },
    "tags": []
   },
   "source": [
    "## Plotting Train and Validation Accuracy and Loss"
   ]
  },
  {
   "cell_type": "code",
   "execution_count": 6,
   "metadata": {
    "execution": {
     "iopub.execute_input": "2020-12-31T05:51:33.808620Z",
     "iopub.status.busy": "2020-12-31T05:51:33.807995Z",
     "iopub.status.idle": "2020-12-31T05:51:34.366126Z",
     "shell.execute_reply": "2020-12-31T05:51:34.365475Z"
    },
    "papermill": {
     "duration": 1.100861,
     "end_time": "2020-12-31T05:51:34.366265",
     "exception": false,
     "start_time": "2020-12-31T05:51:33.265404",
     "status": "completed"
    },
    "tags": []
   },
   "outputs": [
    {
     "data": {
      "image/png": "[encoded data removed]",
      "text/plain": [
       "<Figure size 432x288 with 1 Axes>"
      ]
     },
     "metadata": {
      "needs_background": "light"
     },
     "output_type": "display_data"
    },
    {
     "data": {
      "image/png": "[encoded data removed]",
      "text/plain": [
       "<Figure size 432x288 with 1 Axes>"
      ]
     },
     "metadata": {
      "needs_background": "light"
     },
     "output_type": "display_data"
    }
   ],
   "source": [
    "fit_hist = pd.DataFrame(history.history)\n",
    "\n",
    "loss = round(np.min(fit_hist['loss']), 2)\n",
    "val_loss = round(np.min(fit_hist['val_loss']), 2)\n",
    "acc = round(np.max(fit_hist['accuracy']), 2)\n",
    "val_acc = round(np.max(fit_hist['val_accuracy']), 2)\n",
    "\n",
    "plt.title(f\"Train Loss ({loss}) and Validation Loss ({val_loss})\")\n",
    "plt.plot(fit_hist['loss'], label='Train Loss')\n",
    "plt.plot(fit_hist['val_loss'], label='Val Loss')\n",
    "plt.xlabel('Epoch')\n",
    "plt.ylabel('Loss')\n",
    "plt.grid(color='#e6e6e6')\n",
    "plt.legend()\n",
    "plt.show()\n",
    "\n",
    "plt.title(f\"Train Accuracy ({acc}) and Validation Accuracy ({val_acc})\")\n",
    "plt.plot(fit_hist['accuracy'], label='Train Acc')\n",
    "plt.plot(fit_hist['val_accuracy'], label='Val Acc')\n",
    "plt.xlabel('Epoch')\n",
    "plt.ylabel('Accuracy')\n",
    "plt.grid(color='#e6e6e6')\n",
    "plt.legend()\n",
    "plt.show()"
   ]
  }
 ],
 "metadata": {
  "kernelspec": {
   "display_name": "Python 3",
   "language": "python",
   "name": "python3"
  },
  "language_info": {
   "codemirror_mode": {
    "name": "ipython",
    "version": 3
   },
   "file_extension": ".py",
   "mimetype": "text/x-python",
   "name": "python",
   "nbconvert_exporter": "python",
   "pygments_lexer": "ipython3",
   "version": "3.7.6"
  },
  "papermill": {
   "duration": 608.986715,
   "end_time": "2020-12-31T05:51:37.181453",
   "environment_variables": {},
   "exception": null,
   "input_path": "__notebook__.ipynb",
   "output_path": "__notebook__.ipynb",
   "parameters": {},
   "start_time": "2020-12-31T05:41:28.194738",
   "version": "2.1.0"
  }
 },
 "nbformat": 4,
 "nbformat_minor": 4
}
